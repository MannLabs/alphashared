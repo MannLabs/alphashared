{
 "cells": [
  {
   "cell_type": "markdown",
   "id": "5499752199850a01",
   "metadata": {},
   "source": [
    "# My Notebook\n",
    "This notebook is a test for importing functions from another notebook."
   ]
  },
  {
   "cell_type": "code",
   "execution_count": 1,
   "id": "48042275942eb8b9",
   "metadata": {
    "ExecuteTime": {
     "end_time": "2025-04-10T07:02:38.362547Z",
     "start_time": "2025-04-10T07:02:38.352040Z"
    }
   },
   "outputs": [],
   "source": [
    "# make code reload automatically\n",
    "%reload_ext autoreload\n",
    "%autoreload 2"
   ]
  },
  {
   "cell_type": "code",
   "execution_count": 2,
   "id": "initial_id",
   "metadata": {
    "ExecuteTime": {
     "end_time": "2025-04-10T07:02:38.868091Z",
     "start_time": "2025-04-10T07:02:38.769646Z"
    },
    "collapsed": true
   },
   "outputs": [
    {
     "name": "stdout",
     "output_type": "stream",
     "text": [
      "Hello world from utils!\n"
     ]
    }
   ],
   "source": [
    "# simple: import from adjacent script\n",
    "from utils import some_analysis\n",
    "\n",
    "some_analysis()"
   ]
  },
  {
   "cell_type": "code",
   "execution_count": 4,
   "id": "a730344cecb34bc8",
   "metadata": {
    "ExecuteTime": {
     "end_time": "2025-04-10T07:02:51.809286Z",
     "start_time": "2025-04-10T07:02:51.803124Z"
    }
   },
   "outputs": [
    {
     "name": "stdout",
     "output_type": "stream",
     "text": [
      "Hello world from main!\n"
     ]
    }
   ],
   "source": [
    "# advanced: install the package and import from there\n",
    "# ! uv pip install -e ../\n",
    "from my_package.my_module import main\n",
    "\n",
    "main()"
   ]
  },
  {
   "cell_type": "code",
   "execution_count": null,
   "id": "e39bcdcb5f63dbf0",
   "metadata": {},
   "outputs": [],
   "source": []
  }
 ],
 "metadata": {
  "kernelspec": {
   "display_name": "Python 3",
   "language": "python",
   "name": "python3"
  },
  "language_info": {
   "codemirror_mode": {
    "name": "ipython",
    "version": 2
   },
   "file_extension": ".py",
   "mimetype": "text/x-python",
   "name": "python",
   "nbconvert_exporter": "python",
   "pygments_lexer": "ipython2",
   "version": "2.7.6"
  }
 },
 "nbformat": 4,
 "nbformat_minor": 5
}
