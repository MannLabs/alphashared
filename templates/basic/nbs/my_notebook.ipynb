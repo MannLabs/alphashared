{
 "cells": [
  {
   "metadata": {},
   "cell_type": "markdown",
   "source": [
    "# My Notebook\n",
    "This notebook is a test for importing functions from another notebook."
   ],
   "id": "5499752199850a01"
  },
  {
   "cell_type": "code",
   "id": "initial_id",
   "metadata": {
    "collapsed": true,
    "ExecuteTime": {
     "end_time": "2025-01-31T09:37:44.302116Z",
     "start_time": "2025-01-31T09:37:44.299208Z"
    }
   },
   "source": "from my_notebook import my_analysis",
   "outputs": [],
   "execution_count": 3
  },
  {
   "metadata": {
    "ExecuteTime": {
     "end_time": "2025-01-31T09:37:49.913376Z",
     "start_time": "2025-01-31T09:37:49.910869Z"
    }
   },
   "cell_type": "code",
   "source": "my_analysis()",
   "id": "7eebb6ee7b7c4790",
   "outputs": [
    {
     "name": "stdout",
     "output_type": "stream",
     "text": [
      "Hello world\n"
     ]
    }
   ],
   "execution_count": 5
  }
 ],
 "metadata": {
  "kernelspec": {
   "display_name": "Python 3",
   "language": "python",
   "name": "python3"
  },
  "language_info": {
   "codemirror_mode": {
    "name": "ipython",
    "version": 2
   },
   "file_extension": ".py",
   "mimetype": "text/x-python",
   "name": "python",
   "nbconvert_exporter": "python",
   "pygments_lexer": "ipython2",
   "version": "2.7.6"
  }
 },
 "nbformat": 4,
 "nbformat_minor": 5
}
